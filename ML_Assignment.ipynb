{
  "nbformat": 4,
  "nbformat_minor": 0,
  "metadata": {
    "kernelspec": {
      "display_name": "Python 3",
      "language": "python",
      "name": "python3"
    },
    "language_info": {
      "codemirror_mode": {
        "name": "ipython",
        "version": 3
      },
      "file_extension": ".py",
      "mimetype": "text/x-python",
      "name": "python",
      "nbconvert_exporter": "python",
      "pygments_lexer": "ipython3",
      "version": "3.8.5"
    },
    "colab": {
      "name": "ML Assignment.ipynb",
      "provenance": [],
      "collapsed_sections": []
    }
  },
  "cells": [
    {
      "cell_type": "markdown",
      "metadata": {
        "id": "tTRDKPLiMjeC"
      },
      "source": [
        "# RESUME SCREENING!"
      ]
    },
    {
      "cell_type": "code",
      "metadata": {
        "id": "Mp-4_izzMjeG"
      },
      "source": [
        "import numpy as np\n",
        "import pandas as pd\n",
        "import re\n",
        "import matplotlib.pyplot as plt\n",
        "import seaborn as sns\n",
        "from sklearn.model_selection import train_test_split\n",
        "from sklearn.feature_extraction.text import TfidfVectorizer\n",
        "from scipy.sparse import hstack\n",
        "from sklearn.neighbors import KNeighborsClassifier"
      ],
      "execution_count": null,
      "outputs": []
    },
    {
      "cell_type": "code",
      "metadata": {
        "colab": {
          "base_uri": "https://localhost:8080/",
          "height": 203
        },
        "id": "ldEBYzQMMjeH",
        "outputId": "b3310b01-aa0b-4195-97ea-60ac8e9af098"
      },
      "source": [
        "resume_set = pd.read_csv('UpdatedResumeDataSet.csv')\n",
        "resume_set.head()"
      ],
      "execution_count": null,
      "outputs": [
        {
          "output_type": "execute_result",
          "data": {
            "text/html": [
              "<div>\n",
              "<style scoped>\n",
              "    .dataframe tbody tr th:only-of-type {\n",
              "        vertical-align: middle;\n",
              "    }\n",
              "\n",
              "    .dataframe tbody tr th {\n",
              "        vertical-align: top;\n",
              "    }\n",
              "\n",
              "    .dataframe thead th {\n",
              "        text-align: right;\n",
              "    }\n",
              "</style>\n",
              "<table border=\"1\" class=\"dataframe\">\n",
              "  <thead>\n",
              "    <tr style=\"text-align: right;\">\n",
              "      <th></th>\n",
              "      <th>Category</th>\n",
              "      <th>Resume</th>\n",
              "    </tr>\n",
              "  </thead>\n",
              "  <tbody>\n",
              "    <tr>\n",
              "      <th>0</th>\n",
              "      <td>Data Science</td>\n",
              "      <td>Skills * Programming Languages: Python (pandas...</td>\n",
              "    </tr>\n",
              "    <tr>\n",
              "      <th>1</th>\n",
              "      <td>Data Science</td>\n",
              "      <td>Education Details \\r\\nMay 2013 to May 2017 B.E...</td>\n",
              "    </tr>\n",
              "    <tr>\n",
              "      <th>2</th>\n",
              "      <td>Data Science</td>\n",
              "      <td>Areas of Interest Deep Learning, Control Syste...</td>\n",
              "    </tr>\n",
              "    <tr>\n",
              "      <th>3</th>\n",
              "      <td>Data Science</td>\n",
              "      <td>Skills â¢ R â¢ Python â¢ SAP HANA â¢ Table...</td>\n",
              "    </tr>\n",
              "    <tr>\n",
              "      <th>4</th>\n",
              "      <td>Data Science</td>\n",
              "      <td>Education Details \\r\\n MCA   YMCAUST,  Faridab...</td>\n",
              "    </tr>\n",
              "  </tbody>\n",
              "</table>\n",
              "</div>"
            ],
            "text/plain": [
              "       Category                                             Resume\n",
              "0  Data Science  Skills * Programming Languages: Python (pandas...\n",
              "1  Data Science  Education Details \\r\\nMay 2013 to May 2017 B.E...\n",
              "2  Data Science  Areas of Interest Deep Learning, Control Syste...\n",
              "3  Data Science  Skills â¢ R â¢ Python â¢ SAP HANA â¢ Table...\n",
              "4  Data Science  Education Details \\r\\n MCA   YMCAUST,  Faridab..."
            ]
          },
          "metadata": {
            "tags": []
          },
          "execution_count": 20
        }
      ]
    },
    {
      "cell_type": "code",
      "metadata": {
        "colab": {
          "base_uri": "https://localhost:8080/"
        },
        "id": "GknFuhgL_riU",
        "outputId": "9c3facb0-f028-4f5a-aebf-38d4e15c614f"
      },
      "source": [
        "resume_set.isnull().count()"
      ],
      "execution_count": null,
      "outputs": [
        {
          "output_type": "execute_result",
          "data": {
            "text/plain": [
              "Category    962\n",
              "Resume      962\n",
              "dtype: int64"
            ]
          },
          "metadata": {
            "tags": []
          },
          "execution_count": 21
        }
      ]
    },
    {
      "cell_type": "code",
      "metadata": {
        "colab": {
          "base_uri": "https://localhost:8080/"
        },
        "id": "zn__w_LuMjeJ",
        "outputId": "b74f2ade-8ecc-4cfd-a2f7-1681de2d0d79"
      },
      "source": [
        "print(\"Totally we are having \"+str(len(resume_set['Category'].unique()))+\" distinct categories of resumes.\")\n",
        "print (\"Here we can see the distinct categories of resume and number of resumes as per catogery.\\n\")\n",
        "print (resume_set['Category'].value_counts())"
      ],
      "execution_count": null,
      "outputs": [
        {
          "output_type": "stream",
          "text": [
            "Totally we are having 25 distinct categories of resumes.\n",
            "Here we can see the distinct categories of resume and number of resumes as per catogery.\n",
            "\n",
            "Java Developer               84\n",
            "Testing                      70\n",
            "DevOps Engineer              55\n",
            "Python Developer             48\n",
            "Web Designing                45\n",
            "HR                           44\n",
            "Hadoop                       42\n",
            "Blockchain                   40\n",
            "Sales                        40\n",
            "ETL Developer                40\n",
            "Mechanical Engineer          40\n",
            "Operations Manager           40\n",
            "Data Science                 40\n",
            "Arts                         36\n",
            "Database                     33\n",
            "PMO                          30\n",
            "Electrical Engineering       30\n",
            "Health and fitness           30\n",
            "DotNet Developer             28\n",
            "Business Analyst             28\n",
            "Automation Testing           26\n",
            "Network Security Engineer    25\n",
            "SAP Developer                24\n",
            "Civil Engineer               24\n",
            "Advocate                     20\n",
            "Name: Category, dtype: int64\n"
          ],
          "name": "stdout"
        }
      ]
    },
    {
      "cell_type": "code",
      "metadata": {
        "colab": {
          "base_uri": "https://localhost:8080/",
          "height": 897
        },
        "id": "DQGczJOgiLb9",
        "outputId": "99ec0d0c-8c07-4d91-9914-ba6e46cd267d"
      },
      "source": [
        "plt.figure(figsize=(15,15))\n",
        "plt.xticks(rotation=90)\n",
        "sns.countplot(y=\"Category\", data=resume_set)"
      ],
      "execution_count": null,
      "outputs": [
        {
          "output_type": "execute_result",
          "data": {
            "text/plain": [
              "<matplotlib.axes._subplots.AxesSubplot at 0x7f555f122e90>"
            ]
          },
          "metadata": {
            "tags": []
          },
          "execution_count": 24
        },
        {
          "output_type": "display_data",
          "data": {
            "image/png": "[encoded data removed]",
            "text/plain": [
              "<Figure size 1080x1080 with 1 Axes>"
            ]
          },
          "metadata": {
            "tags": [],
            "needs_background": "light"
          }
        }
      ]
    },
    {
      "cell_type": "markdown",
      "metadata": {
        "id": "1DPXolKBMjeJ"
      },
      "source": [
        "# Now I will create a helper function by using library called \"re\" to remove the URLs, hashtags, mentions, special letters, and punctuations:\n",
        "\n"
      ]
    },
    {
      "cell_type": "code",
      "metadata": {
        "id": "Zo-bupVkMjeK"
      },
      "source": [
        "def cleanResume(resumeText):\n",
        "    resumeText = re.sub('http\\S+\\s*', ' ', resumeText)  #  to remove URLs\n",
        "    resumeText = re.sub('RT|cc', ' ', resumeText)  # to remove RT and cc\n",
        "    resumeText = re.sub('#\\S+', '', resumeText)  # to remove hashtags\n",
        "    resumeText = re.sub('@\\S+', '  ', resumeText)  # to remove mentions\n",
        "    resumeText = re.sub(r'[^\\x00-\\x7f]',r' ', resumeText) \n",
        "    resumeText = re.sub('\\s+', ' ', resumeText)  # to remove extra whitespace\n",
        "    return resumeText\n",
        "    \n",
        "resume_set['cleaned_resume'] = resume_set.Resume.apply(lambda x: cleanResume(x))"
      ],
      "execution_count": null,
      "outputs": []
    },
    {
      "cell_type": "markdown",
      "metadata": {
        "id": "jm9mPnFnMjeK"
      },
      "source": [
        "So now we have removed the URL's,hahtags,extra spaces,punctuations abd mentions."
      ]
    },
    {
      "cell_type": "markdown",
      "metadata": {
        "id": "sitqwANfMjeL"
      },
      "source": [
        "# Training Machine Learning Model for Resume Screening"
      ]
    },
    {
      "cell_type": "markdown",
      "metadata": {
        "id": "KVO77vj4MjeL"
      },
      "source": [
        "# We have already cleaned the data and now we have to train our model by splitting the data."
      ]
    },
    {
      "cell_type": "code",
      "metadata": {
        "id": "Y29Ma657MjeM"
      },
      "source": [
        "requiredText = resume_set['cleaned_resume'].values ## we can simply assume this values as \"X\".\n",
        "requiredTarget = resume_set['Category'].values  ## same as above assume this values as \"Y\"."
      ],
      "execution_count": null,
      "outputs": []
    },
    {
      "cell_type": "markdown",
      "metadata": {
        "id": "Eaqy1XDJMjeM"
      },
      "source": [
        "We have to remember a point that can't be act as features so our \"X\" what we have assuming as \"requiredText\" must be converted to features of words so that we can train out model"
      ]
    },
    {
      "cell_type": "code",
      "metadata": {
        "id": "DOaLLtMgMjeN"
      },
      "source": [
        "word_vectorizer = TfidfVectorizer(\n",
        "    sublinear_tf=True,\n",
        "    stop_words='english',\n",
        "    max_features=1500)\n",
        "word_vectorizer.fit(requiredText)\n",
        "WordFeatures = word_vectorizer.transform(requiredText)"
      ],
      "execution_count": null,
      "outputs": []
    },
    {
      "cell_type": "markdown",
      "metadata": {
        "id": "liBzql_dMjeN"
      },
      "source": [
        "# so we have converted the text which has been extracted from the data set into features so that we can train our model. "
      ]
    },
    {
      "cell_type": "markdown",
      "metadata": {
        "id": "Q7k4WJifMjeO"
      },
      "source": [
        "# From here our \"X\" is WordFeatures and \"Y\" is requiredTarget...."
      ]
    },
    {
      "cell_type": "markdown",
      "metadata": {
        "id": "t5mXM9iNMjeO"
      },
      "source": [
        "# To trian our model we must splite our model.."
      ]
    },
    {
      "cell_type": "code",
      "metadata": {
        "colab": {
          "base_uri": "https://localhost:8080/"
        },
        "id": "ZkkQRXT8MjeO",
        "outputId": "12c3aef6-2504-494c-e6ba-0244d87255b5"
      },
      "source": [
        "X_train,X_test,y_train,y_test = train_test_split(WordFeatures,requiredTarget,random_state=0, test_size=0.2)\n",
        "print(X_train.shape)\n",
        "print(X_test.shape)"
      ],
      "execution_count": null,
      "outputs": [
        {
          "output_type": "stream",
          "text": [
            "(769, 1500)\n",
            "(193, 1500)\n"
          ],
          "name": "stdout"
        }
      ]
    },
    {
      "cell_type": "markdown",
      "metadata": {
        "id": "13qPfvp-MjeO"
      },
      "source": [
        "# So we have given 80% of our data from dataset to train our model"
      ]
    },
    {
      "cell_type": "markdown",
      "metadata": {
        "id": "dCRiqx3FMjeP"
      },
      "source": [
        "# Now actual process to train our model will be created and trained.."
      ]
    },
    {
      "cell_type": "markdown",
      "metadata": {
        "id": "_1FibhChlDIo"
      },
      "source": [
        "Why we are taking KNN classifier for text classification?"
      ]
    },
    {
      "cell_type": "markdown",
      "metadata": {
        "id": "J0R-Ze3elVHW"
      },
      "source": [
        "Ans:       We’ll define K Nearest Neighbor algorithm for text classification with Python. KNN algorithm is used to classify by finding the K nearest matches in training data and then using the label of closest matches to predict. Traditionally, distance such as euclidean is used to find the closest match.\n",
        "           For Text Classification, we’ll use nltk library to generate synonyms and use similarity scores among texts. We’ll identify the K nearest neighbors which has the highest similarity score among the training corpus."
      ]
    },
    {
      "cell_type": "code",
      "metadata": {
        "colab": {
          "base_uri": "https://localhost:8080/"
        },
        "id": "W69DoGxbMjeP",
        "outputId": "36bf9128-8600-45f2-ba50-0ea6cf603724"
      },
      "source": [
        "# we have created a model\n",
        "clf = KNeighborsClassifier()\n",
        "# Now have to fit our model by training datatset which we have separated from actual dataset.\n",
        "clf.fit(X_train, y_train)"
      ],
      "execution_count": null,
      "outputs": [
        {
          "output_type": "execute_result",
          "data": {
            "text/plain": [
              "KNeighborsClassifier(algorithm='auto', leaf_size=30, metric='minkowski',\n",
              "                     metric_params=None, n_jobs=None, n_neighbors=5, p=2,\n",
              "                     weights='uniform')"
            ]
          },
          "metadata": {
            "tags": []
          },
          "execution_count": 29
        }
      ]
    },
    {
      "cell_type": "markdown",
      "metadata": {
        "id": "Hs1DlnkOMjeP"
      },
      "source": [
        "# Finally we have created our model and trained our model using data"
      ]
    },
    {
      "cell_type": "markdown",
      "metadata": {
        "id": "eXChvpoZMjeP"
      },
      "source": [
        "# Now have to predict our results through our trained model on testing data."
      ]
    },
    {
      "cell_type": "code",
      "metadata": {
        "id": "bzfUjcPBMjeP"
      },
      "source": [
        "prediction = clf.predict(X_test)"
      ],
      "execution_count": null,
      "outputs": []
    },
    {
      "cell_type": "markdown",
      "metadata": {
        "id": "b5xRa1kiMjeQ"
      },
      "source": [
        "# Let's measure our model accuracy.."
      ]
    },
    {
      "cell_type": "code",
      "metadata": {
        "colab": {
          "base_uri": "https://localhost:8080/"
        },
        "id": "nlj7Q1ZuMjeQ",
        "outputId": "253fb5d4-02db-4c23-f302-e9faa5066ce2"
      },
      "source": [
        "from sklearn.metrics import accuracy_score\n",
        "our_model_accuracy=accuracy_score(y_test,prediction)\n",
        "print(our_model_accuracy)"
      ],
      "execution_count": null,
      "outputs": [
        {
          "output_type": "stream",
          "text": [
            "0.9896373056994818\n"
          ],
          "name": "stdout"
        }
      ]
    },
    {
      "cell_type": "code",
      "metadata": {
        "id": "u_UR8V2WpxYP"
      },
      "source": [
        " Kamal@7989\n",
        " "
      ],
      "execution_count": null,
      "outputs": []
    }
  ]
}